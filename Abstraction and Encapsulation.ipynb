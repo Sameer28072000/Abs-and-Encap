{
 "cells": [
  {
   "cell_type": "markdown",
   "id": "52d460f1-bd62-4adc-84ed-2fb789589c7d",
   "metadata": {},
   "source": [
    "Q1. What is Abstraction in OOps? Explain with an example."
   ]
  },
  {
   "cell_type": "code",
   "execution_count": null,
   "id": "7d710111-fdd1-4155-ab3e-b78083e1494f",
   "metadata": {},
   "outputs": [],
   "source": [
    "Ans;-Abstraction in OOPs is the concept hidding of unneccessary details.\n",
    "      Abstraction is achieved through the use of abstract classes and interfaces."
   ]
  },
  {
   "cell_type": "markdown",
   "id": "28fcf879-b0f9-4313-b04a-1f2b9d17cde2",
   "metadata": {},
   "source": [
    "Q2. Differentiate between Abstraction and Encapsulation. Explain with an example."
   ]
  },
  {
   "cell_type": "code",
   "execution_count": null,
   "id": "138da33f-bce1-4f1d-9f65-b4c7ba87c286",
   "metadata": {},
   "outputs": [],
   "source": [
    "Ans:- Abstraction:-\n",
    "       i.Abstraction focuses on hiding unnecessary details and exposing only the essential features .\n",
    "        ii. Abstraction is achieved through the use of abstract classes, interfaces, and inheritance.\n",
    "        \n",
    "        \n",
    "         Encapsulation:-\n",
    "            i.Encapsulation, on the other hand, is the process of bundling data and\n",
    "               methods together into a single unit, called a class\n",
    "                ii. Encapsulation helps in hiding the internal details of a class and provides \n",
    "                     a way to protect the data from external interference.    "
   ]
  },
  {
   "cell_type": "markdown",
   "id": "2c17d8b1-608c-42c2-93ae-7558f117fe25",
   "metadata": {},
   "source": [
    "Q3. What is abc module in python? Why is it used?"
   ]
  },
  {
   "cell_type": "code",
   "execution_count": null,
   "id": "f7b7b791-23d0-4f99-ac4a-8824abfb7d30",
   "metadata": {},
   "outputs": [],
   "source": [
    "Ans:-The abc module in Python stands for \"Abstract Base Classes.\"\n",
    "       It is a module that provides mechanisms for defining abstract base classes in Python.\n",
    "       i.Defining abc\n",
    "        ii.Checking solution conformance"
   ]
  },
  {
   "cell_type": "markdown",
   "id": "27272db3-2295-409f-8ce9-6609223d1f65",
   "metadata": {},
   "source": [
    "Q4. How can we achieve data abstraction?"
   ]
  },
  {
   "cell_type": "code",
   "execution_count": null,
   "id": "d668148d-4ed6-45aa-9a78-4899b24e15fe",
   "metadata": {},
   "outputs": [],
   "source": [
    "Ans:-Steps to achieve data abstraction:-\n",
    "      i.Define abc\n",
    "       ii.Declare Abstract methods\n",
    "         iii.Create subclasses\n",
    "            iv.Use polymorphism"
   ]
  },
  {
   "cell_type": "markdown",
   "id": "ca578983-f092-40b8-8b7f-b8724a28c46d",
   "metadata": {},
   "source": [
    "Q5. Can we create an instance of an abstract class? Explain your answer."
   ]
  },
  {
   "cell_type": "code",
   "execution_count": null,
   "id": "c2e865f6-e56d-4a1d-85c5-bf0d0a93fba6",
   "metadata": {},
   "outputs": [],
   "source": [
    "Ans:-No,we can not create an instance of an abstract class.\n",
    "      because abstraction class is a class that cannot be instantiated directly."
   ]
  }
 ],
 "metadata": {
  "kernelspec": {
   "display_name": "Python 3 (ipykernel)",
   "language": "python",
   "name": "python3"
  },
  "language_info": {
   "codemirror_mode": {
    "name": "ipython",
    "version": 3
   },
   "file_extension": ".py",
   "mimetype": "text/x-python",
   "name": "python",
   "nbconvert_exporter": "python",
   "pygments_lexer": "ipython3",
   "version": "3.10.8"
  }
 },
 "nbformat": 4,
 "nbformat_minor": 5
}
